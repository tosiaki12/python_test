{
  "nbformat": 4,
  "nbformat_minor": 0,
  "metadata": {
    "colab": {
      "provenance": [],
      "authorship_tag": "ABX9TyNoI/ckXkVnTCEnI342dbPm",
      "include_colab_link": true
    },
    "kernelspec": {
      "name": "python3",
      "display_name": "Python 3"
    },
    "language_info": {
      "name": "python"
    }
  },
  "cells": [
    {
      "cell_type": "markdown",
      "metadata": {
        "id": "view-in-github",
        "colab_type": "text"
      },
      "source": [
        "<a href=\"https://colab.research.google.com/github/tosiaki12/python_test/blob/main/cntltest.ipynb\" target=\"_parent\"><img src=\"https://colab.research.google.com/assets/colab-badge.svg\" alt=\"Open In Colab\"/></a>"
      ]
    },
    {
      "cell_type": "code",
      "source": [
        "!pip install control\n",
        "#google colabで実行するときはまずインストールする"
      ],
      "metadata": {
        "id": "XGICz56biDee",
        "outputId": "2e7bd656-49bc-43e1-c5ac-cd1fb1afb3ed",
        "colab": {
          "base_uri": "https://localhost:8080/"
        }
      },
      "execution_count": 2,
      "outputs": [
        {
          "output_type": "stream",
          "name": "stdout",
          "text": [
            "Requirement already satisfied: control in /usr/local/lib/python3.10/dist-packages (0.10.0)\n",
            "Requirement already satisfied: numpy>=1.23 in /usr/local/lib/python3.10/dist-packages (from control) (1.25.2)\n",
            "Requirement already satisfied: scipy>=1.8 in /usr/local/lib/python3.10/dist-packages (from control) (1.11.4)\n",
            "Requirement already satisfied: matplotlib>=3.6 in /usr/local/lib/python3.10/dist-packages (from control) (3.7.1)\n",
            "Requirement already satisfied: contourpy>=1.0.1 in /usr/local/lib/python3.10/dist-packages (from matplotlib>=3.6->control) (1.2.0)\n",
            "Requirement already satisfied: cycler>=0.10 in /usr/local/lib/python3.10/dist-packages (from matplotlib>=3.6->control) (0.12.1)\n",
            "Requirement already satisfied: fonttools>=4.22.0 in /usr/local/lib/python3.10/dist-packages (from matplotlib>=3.6->control) (4.50.0)\n",
            "Requirement already satisfied: kiwisolver>=1.0.1 in /usr/local/lib/python3.10/dist-packages (from matplotlib>=3.6->control) (1.4.5)\n",
            "Requirement already satisfied: packaging>=20.0 in /usr/local/lib/python3.10/dist-packages (from matplotlib>=3.6->control) (24.0)\n",
            "Requirement already satisfied: pillow>=6.2.0 in /usr/local/lib/python3.10/dist-packages (from matplotlib>=3.6->control) (9.4.0)\n",
            "Requirement already satisfied: pyparsing>=2.3.1 in /usr/local/lib/python3.10/dist-packages (from matplotlib>=3.6->control) (3.1.2)\n",
            "Requirement already satisfied: python-dateutil>=2.7 in /usr/local/lib/python3.10/dist-packages (from matplotlib>=3.6->control) (2.8.2)\n",
            "Requirement already satisfied: six>=1.5 in /usr/local/lib/python3.10/dist-packages (from python-dateutil>=2.7->matplotlib>=3.6->control) (1.16.0)\n"
          ]
        }
      ]
    },
    {
      "cell_type": "code",
      "execution_count": null,
      "metadata": {
        "id": "_ylmf4D69lGX"
      },
      "outputs": [],
      "source": [
        "\n",
        "from mpl_toolkits import mplot3d\n",
        "import matplotlib.pyplot as plt\n",
        "from mpl_toolkits.mplot3d import Axes3D\n",
        "%matplotlib inline\n",
        "\n",
        "\n",
        "import numpy as np\n",
        "def init_grids(ippen, count):\n",
        "    re_range, im_range = np.linspace(-ippen,ippen,count), np.linspace(-ippen,ippen,count)\n",
        "    re_grid, im_grid = np.meshgrid(re_range, im_range)\n",
        "    com_grid = re_grid + im_grid*1j#<class 'numpy.ndarray'> (29, 29)\n",
        "    return com_grid\n",
        "\n"
      ]
    },
    {
      "cell_type": "code",
      "source": [
        "#sympy関係\n",
        "import sympy as sp\n",
        "sp.init_printing()\n",
        "s = sp.Symbol('s')\n",
        "root = sp.solve(2*s**2 + 5*s + 3, s)\n",
        "print(root)\n",
        "print(type(root))\n",
        "sa = 2*s**3 + 5*s - 1\n",
        "print(type(sa))\n",
        "print(sa)\n",
        "sa\n",
        "t = sp.Symbol('t')\n",
        "tfunc = 4*t**3 + 3*t**2 + 1\n",
        "sfunc = sp.laplace_transform(tfunc,t,s)\n",
        "print(sfunc)\n",
        "print(type(sfunc[0]))\n",
        "import control.matlab as mt\n",
        "sys = mt.tf([0,0,1,2,3],[1,2,5,0,1])\n",
        "p = mt.poles(sys)\n",
        "print(sys)\n",
        "print(p)"
      ],
      "metadata": {
        "id": "Sadnww5XiV-t",
        "colab": {
          "base_uri": "https://localhost:8080/"
        },
        "outputId": "74a125a6-b91e-44ae-85b5-288f17080b37"
      },
      "execution_count": null,
      "outputs": [
        {
          "output_type": "stream",
          "name": "stdout",
          "text": [
            "[-3/2, -1]\n",
            "<class 'list'>\n",
            "<class 'sympy.core.add.Add'>\n",
            "2*s**3 + 5*s - 1\n",
            "(1/s + 6/s**3 + 24/s**4, 0, True)\n",
            "<class 'sympy.core.add.Add'>\n",
            "\n",
            "     s^2 + 2 s + 3\n",
            "-----------------------\n",
            "s^4 + 2 s^3 + 5 s^2 + 1\n",
            "\n",
            "[-1.04211262+1.97193338j -1.04211262-1.97193338j  0.04211262+0.44637535j\n",
            "  0.04211262-0.44637535j]\n"
          ]
        }
      ]
    },
    {
      "cell_type": "code",
      "source": [
        "t = sp.Symbol('t',positive=True)\n",
        "A = np.array([[-1,0],[1,-2]])\n",
        "G = s*sp.eye(2) - A\n",
        "print(G)\n",
        "exp_At = sp.inverse_laplace_transform(sp.simplify(G.inv()),s,t)\n",
        "print(exp_At)\n",
        "exp_At"
      ],
      "metadata": {
        "colab": {
          "base_uri": "https://localhost:8080/",
          "height": 92
        },
        "id": "wLvjsK6GfqpU",
        "outputId": "33f2ee8d-f831-4f50-f76b-977a71e3d5cd"
      },
      "execution_count": null,
      "outputs": [
        {
          "output_type": "stream",
          "name": "stdout",
          "text": [
            "Matrix([[s + 1, 0], [-1, s + 2]])\n",
            "Matrix([[exp(-t), 0], [exp(-t) - exp(-2*t), exp(-2*t)]])\n"
          ]
        },
        {
          "output_type": "execute_result",
          "data": {
            "text/plain": [
              "⎡     -t           ⎤\n",
              "⎢    ℯ          0  ⎥\n",
              "⎢                  ⎥\n",
              "⎢ -t    -2⋅t   -2⋅t⎥\n",
              "⎣ℯ   - ℯ      ℯ    ⎦"
            ],
            "text/latex": "$\\displaystyle \\left[\\begin{matrix}e^{- t} & 0\\\\e^{- t} - e^{- 2 t} & e^{- 2 t}\\end{matrix}\\right]$"
          },
          "metadata": {},
          "execution_count": 9
        }
      ]
    },
    {
      "cell_type": "code",
      "source": [
        "import control as ct\n",
        "import matplotlib.pyplot as plt\n",
        "sys = ct.rss(4, 1, 1)\n",
        "response = ct.step_response(sys)\n",
        "#plt.plot(response.time, response.outputs)\n",
        "print(type(sys), type(response))\n",
        "t, y = ct.step_response(sys)\n",
        "plt.plot(t, y)"
      ],
      "metadata": {
        "colab": {
          "base_uri": "https://localhost:8080/",
          "height": 466
        },
        "id": "rPypnRtb6sCS",
        "outputId": "95ef4330-b152-4b7d-f3ed-1fb5bbbdc8a6"
      },
      "execution_count": null,
      "outputs": [
        {
          "output_type": "stream",
          "name": "stdout",
          "text": [
            "<class 'control.iosys.LinearIOSystem'> <class 'control.timeresp.TimeResponseData'>\n"
          ]
        },
        {
          "output_type": "execute_result",
          "data": {
            "text/plain": [
              "[<matplotlib.lines.Line2D at 0x7dcce9ba6440>]"
            ]
          },
          "metadata": {},
          "execution_count": 15
        },
        {
          "output_type": "display_data",
          "data": {
            "text/plain": [
              "<Figure size 640x480 with 1 Axes>"
            ],
            "image/png": "[encoded data removed]"
          },
          "metadata": {}
        }
      ]
    },
    {
      "cell_type": "code",
      "source": [
        "fig1 = plt.figure()\n",
        "ax11 = fig1.add_subplot()\n",
        "ax11.set_aspect('equal')\n",
        "plt.xlim(-5,5) #ax1ではエラー\n",
        "plt.ylim(-5,5)\n",
        "ax11.grid()\n",
        "print(p)\n",
        "for i in p:\n",
        "    print(np.abs(i))\n",
        "    ax11.plot(np.real(i),np.imag(i),marker='.')\n",
        "#ax11.plot(np.real(com_grid), np.imag(com_grid), np.real(ans_fixed_p),cmap=color)#, rcount=200,ccount=200)\n",
        "ax11.set_title('f_real')\n",
        "ax11.set_xlabel(\"Re\")\n",
        "ax11.set_ylabel(\"Im\")"
      ],
      "metadata": {
        "colab": {
          "base_uri": "https://localhost:8080/",
          "height": 594
        },
        "id": "VJXD0ddefsee",
        "outputId": "ad07e911-83a7-46e0-d5d9-239184594b95"
      },
      "execution_count": null,
      "outputs": [
        {
          "output_type": "stream",
          "name": "stdout",
          "text": [
            "[-1.04211262+1.97193338j -1.04211262-1.97193338j  0.04211262+0.44637535j\n",
            "  0.04211262-0.44637535j]\n",
            "2.2303631913906172\n",
            "2.2303631913906172\n",
            "0.4483574710433173\n",
            "0.4483574710433173\n"
          ]
        },
        {
          "output_type": "execute_result",
          "data": {
            "text/plain": [
              "Text(0, 0.5, 'Im')"
            ]
          },
          "metadata": {},
          "execution_count": 35
        },
        {
          "output_type": "display_data",
          "data": {
            "text/plain": [
              "<Figure size 640x480 with 1 Axes>"
            ],
            "image/png": "[encoded data removed]"
          },
          "metadata": {}
        }
      ]
    },
    {
      "cell_type": "code",
      "source": [
        "import control\n",
        "from control.matlab import *\n",
        "import numpy as np\n",
        "import matplotlib.pyplot as plt\n",
        "np.set_printoptions(precision=4,floatmode='maxprec')\n",
        "\n",
        "#2024年4月1日\n",
        "A = [[0,1],[-2,-1]]; B = [[0],[3]]; C = [1,4]; D = [0]\n",
        "print('状態空間表現')\n",
        "sys1ss = ss(A,B,C,D)\n",
        "print(sys1ss)\n",
        "\n",
        "sys1tf = ss2tf(sys1ss)\n",
        "print('伝達関数表現:', sys1tf)\n",
        "sys1tf.ninputs"
      ],
      "metadata": {
        "colab": {
          "base_uri": "https://localhost:8080/"
        },
        "id": "QNuVaQ2VqOT0",
        "outputId": "b3efe2e1-9830-40cb-b649-765b7f8fa19e"
      },
      "execution_count": 8,
      "outputs": [
        {
          "output_type": "stream",
          "name": "stdout",
          "text": [
            "状態空間表現\n",
            "<StateSpace>: sys[6]\n",
            "Inputs (1): ['u[0]']\n",
            "Outputs (1): ['y[0]']\n",
            "States (2): ['x[0]', 'x[1]']\n",
            "\n",
            "A = [[ 0.  1.]\n",
            "     [-2. -1.]]\n",
            "\n",
            "B = [[0.]\n",
            "     [3.]]\n",
            "\n",
            "C = [[1. 4.]]\n",
            "\n",
            "D = [[0.]]\n",
            "\n",
            "伝達関数表現: <TransferFunction>: sys[7]\n",
            "Inputs (1): ['u[0]']\n",
            "Outputs (1): ['y[0]']\n",
            "\n",
            "\n",
            " 12 s + 3\n",
            "-----------\n",
            "s^2 + s + 2\n",
            "\n"
          ]
        },
        {
          "output_type": "execute_result",
          "data": {
            "text/plain": [
              "1"
            ]
          },
          "metadata": {},
          "execution_count": 8
        }
      ]
    },
    {
      "cell_type": "markdown",
      "source": [
        "latexテスト\n",
        "$$\\frac{d}{dt}f(x) = Ax$$\n"
      ],
      "metadata": {
        "id": "shufc5_TzDrS"
      }
    },
    {
      "cell_type": "code",
      "source": [],
      "metadata": {
        "id": "wLprHlpUkXE-"
      },
      "execution_count": null,
      "outputs": []
    },
    {
      "cell_type": "code",
      "source": [],
      "metadata": {
        "id": "WSzOBichexgd",
        "outputId": "17d5dbf1-213d-44ca-964d-f91f944ab064",
        "colab": {
          "base_uri": "https://localhost:8080/"
        }
      },
      "execution_count": null,
      "outputs": [
        {
          "output_type": "stream",
          "name": "stdout",
          "text": [
            "Collecting control\n",
            "  Downloading control-0.9.4-py3-none-any.whl (455 kB)\n",
            "\u001b[2K     \u001b[90m━━━━━━━━━━━━━━━━━━━━━━━━━━━━━━━━━━━━━━━━\u001b[0m \u001b[32m455.1/455.1 kB\u001b[0m \u001b[31m3.4 MB/s\u001b[0m eta \u001b[36m0:00:00\u001b[0m\n",
            "\u001b[?25hRequirement already satisfied: numpy in /usr/local/lib/python3.10/dist-packages (from control) (1.25.2)\n",
            "Requirement already satisfied: scipy>=1.3 in /usr/local/lib/python3.10/dist-packages (from control) (1.11.4)\n",
            "Requirement already satisfied: matplotlib in /usr/local/lib/python3.10/dist-packages (from control) (3.7.1)\n",
            "Requirement already satisfied: contourpy>=1.0.1 in /usr/local/lib/python3.10/dist-packages (from matplotlib->control) (1.2.0)\n",
            "Requirement already satisfied: cycler>=0.10 in /usr/local/lib/python3.10/dist-packages (from matplotlib->control) (0.12.1)\n",
            "Requirement already satisfied: fonttools>=4.22.0 in /usr/local/lib/python3.10/dist-packages (from matplotlib->control) (4.49.0)\n",
            "Requirement already satisfied: kiwisolver>=1.0.1 in /usr/local/lib/python3.10/dist-packages (from matplotlib->control) (1.4.5)\n",
            "Requirement already satisfied: packaging>=20.0 in /usr/local/lib/python3.10/dist-packages (from matplotlib->control) (24.0)\n",
            "Requirement already satisfied: pillow>=6.2.0 in /usr/local/lib/python3.10/dist-packages (from matplotlib->control) (9.4.0)\n",
            "Requirement already satisfied: pyparsing>=2.3.1 in /usr/local/lib/python3.10/dist-packages (from matplotlib->control) (3.1.2)\n",
            "Requirement already satisfied: python-dateutil>=2.7 in /usr/local/lib/python3.10/dist-packages (from matplotlib->control) (2.8.2)\n",
            "Requirement already satisfied: six>=1.5 in /usr/local/lib/python3.10/dist-packages (from python-dateutil>=2.7->matplotlib->control) (1.16.0)\n",
            "Installing collected packages: control\n",
            "Successfully installed control-0.9.4\n"
          ]
        }
      ]
    },
    {
      "cell_type": "code",
      "source": [
        "A = \"1 1 2;2 1 1;3 4 5\"\n",
        "print(A)\n",
        "print(type(A))\n",
        "B = \"2;0;1\"\n",
        "C = \"1 1 0\"\n",
        "P = mt.ss(A,B,C,'0')\n",
        "print(P)"
      ],
      "metadata": {
        "colab": {
          "base_uri": "https://localhost:8080/"
        },
        "id": "mR5VwxA9cXCc",
        "outputId": "5cca48c5-7f4a-4fe6-c41b-d1778978f8e9"
      },
      "execution_count": null,
      "outputs": [
        {
          "output_type": "stream",
          "name": "stdout",
          "text": [
            "1 1 2;2 1 1;3 4 5\n",
            "<class 'str'>\n",
            "<LinearIOSystem>: sys[4]\n",
            "Inputs (1): ['u[0]']\n",
            "Outputs (1): ['y[0]']\n",
            "States (3): ['x[0]', 'x[1]', 'x[2]']\n",
            "\n",
            "A = [[1. 1. 2.]\n",
            "     [2. 1. 1.]\n",
            "     [3. 4. 5.]]\n",
            "\n",
            "B = [[2.]\n",
            "     [0.]\n",
            "     [1.]]\n",
            "\n",
            "C = [[1. 1. 0.]]\n",
            "\n",
            "D = [[0.]]\n",
            "\n"
          ]
        }
      ]
    },
    {
      "cell_type": "code",
      "source": [
        "S1 = mt.tf([0,1],[1,1])\n",
        "S2 = mt.tf([1,1],[1,1,1])\n",
        "S = S2*S1\n",
        "print(S)\n",
        "S = S.minreal()\n",
        "print(S)"
      ],
      "metadata": {
        "colab": {
          "base_uri": "https://localhost:8080/"
        },
        "id": "kCX_9ZfSvXSg",
        "outputId": "4214b14f-7648-4b87-92f3-684fcc26ad43"
      },
      "execution_count": null,
      "outputs": [
        {
          "output_type": "stream",
          "name": "stdout",
          "text": [
            "\n",
            "        s + 1\n",
            "---------------------\n",
            "s^3 + 2 s^2 + 2 s + 1\n",
            "\n",
            "\n",
            "     1\n",
            "-----------\n",
            "s^2 + s + 1\n",
            "\n"
          ]
        }
      ]
    },
    {
      "cell_type": "code",
      "source": [
        "s = sp.Symbol()"
      ],
      "metadata": {
        "colab": {
          "base_uri": "https://localhost:8080/",
          "height": 179
        },
        "id": "y-E0uzNeEzwF",
        "outputId": "9cc4f06f-c409-45cc-8fa0-f2330a078675"
      },
      "execution_count": null,
      "outputs": [
        {
          "output_type": "error",
          "ename": "NameError",
          "evalue": "name 'sp' is not defined",
          "traceback": [
            "\u001b[0;31m---------------------------------------------------------------------------\u001b[0m",
            "\u001b[0;31mNameError\u001b[0m                                 Traceback (most recent call last)",
            "\u001b[0;32m<ipython-input-1-522c54951635>\u001b[0m in \u001b[0;36m<cell line: 1>\u001b[0;34m()\u001b[0m\n\u001b[0;32m----> 1\u001b[0;31m \u001b[0ms\u001b[0m \u001b[0;34m=\u001b[0m \u001b[0msp\u001b[0m\u001b[0;34m.\u001b[0m\u001b[0mSymbol\u001b[0m\u001b[0;34m(\u001b[0m\u001b[0;34m)\u001b[0m\u001b[0;34m\u001b[0m\u001b[0;34m\u001b[0m\u001b[0m\n\u001b[0m",
            "\u001b[0;31mNameError\u001b[0m: name 'sp' is not defined"
          ]
        }
      ]
    }
  ]
}